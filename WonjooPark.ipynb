{
 "cells": [
  {
   "cell_type": "markdown",
   "id": "6b5f39a6-e975-4be3-9386-5a9cd9dd073d",
   "metadata": {},
   "source": [
    "# Data Science Tools and Ecosystem"
   ]
  },
  {
   "cell_type": "markdown",
   "id": "71e3ad2f-501c-47f1-95a2-05531029a0e3",
   "metadata": {},
   "source": [
    "### In this notebook, Data Science Tools and Ecosytem are summarized."
   ]
  },
  {
   "cell_type": "markdown",
   "id": "daec8fbb-14bb-43d3-8ace-de66f261db8e",
   "metadata": {
    "tags": []
   },
   "source": [
    "#### **Objectives:**\n",
    "- List popular languages for Data Science\n",
    "- Some of the commonly used libraries used by Data Scientists\n",
    "- Demonstrate how to create a table using Markedown\n",
    "- Practice some of arithmatic expressions in Python\n"
   ]
  },
  {
   "cell_type": "markdown",
   "id": "ebfd0bdb-ce71-4c4d-be64-1a296e1395fb",
   "metadata": {},
   "source": [
    "#### Some of the popular languages that Data Scientiss use are:"
   ]
  },
  {
   "cell_type": "markdown",
   "id": "d62c13db-0695-4131-af04-9f770525a52c",
   "metadata": {},
   "source": [
    "1.Python\n",
    "\n",
    "2.R     \n",
    "\n",
    "3.SQL  \n",
    "\n",
    "4.Scala"
   ]
  },
  {
   "cell_type": "markdown",
   "id": "9eb63db4-da2e-457b-a19f-1b01cbf4d8c6",
   "metadata": {},
   "source": [
    "#### Some of the commonly used libraries used by Data Scientists include: "
   ]
  },
  {
   "cell_type": "markdown",
   "id": "f70cc392-d4f9-4bb0-86fd-6f6cc908e1a9",
   "metadata": {},
   "source": [
    "1. Pandas\n",
    "2. NumPy\n",
    "3. SciPy\n",
    "4. Matplotlib"
   ]
  },
  {
   "cell_type": "markdown",
   "id": "7514646d-41b0-461f-b51b-1bac590c940c",
   "metadata": {},
   "source": [
    "| Data Science Tools. |\n",
    "|---------------------|\n",
    "| Jupyter Notebook.   |\n",
    "| Rstudio.            |\n",
    "| Apach Spark.        |"
   ]
  },
  {
   "cell_type": "markdown",
   "id": "8220c136-5b0b-497d-a762-2a84376209d9",
   "metadata": {},
   "source": [
    "### Below are a few examples of evaluating arithmatic expressions in Python"
   ]
  },
  {
   "cell_type": "markdown",
   "id": "c2d21af0-29d1-445b-bdd9-0e9439bad50f",
   "metadata": {},
   "source": [
    "This is a simple arithmetic expression to multiply then add integers"
   ]
  },
  {
   "cell_type": "code",
   "execution_count": 3,
   "id": "3f0c9be9-3cf0-4865-a43f-14cb536eaf8a",
   "metadata": {},
   "outputs": [
    {
     "name": "stdout",
     "output_type": "stream",
     "text": [
      "17\n"
     ]
    }
   ],
   "source": [
    "result = (3*4)+5\n",
    "print(result)"
   ]
  },
  {
   "cell_type": "markdown",
   "id": "fabce4b0-0bf0-4510-a923-dbcb1bd01f4c",
   "metadata": {},
   "source": [
    "This will convert 200 minutes to hours by dividing by 60"
   ]
  },
  {
   "cell_type": "code",
   "execution_count": 11,
   "id": "a183d2a6-8cbd-4d02-8ad3-e77ce6dfbe63",
   "metadata": {},
   "outputs": [
    {
     "name": "stdout",
     "output_type": "stream",
     "text": [
      "3.3333333333333335\n"
     ]
    }
   ],
   "source": [
    "min = 200\n",
    "hr = min/60\n",
    "print(hr)"
   ]
  },
  {
   "cell_type": "markdown",
   "id": "9817af4e-72fa-45b8-a43f-eecf1b717ec8",
   "metadata": {},
   "source": [
    "## Author"
   ]
  },
  {
   "cell_type": "markdown",
   "id": "e1bcb232-ba4c-436e-b691-6916ef63dc7a",
   "metadata": {},
   "source": [
    "Wonjoo Park"
   ]
  },
  {
   "cell_type": "code",
   "execution_count": null,
   "id": "6345ca8b-0219-43a4-8ad5-220d602ace01",
   "metadata": {},
   "outputs": [],
   "source": []
  }
 ],
 "metadata": {
  "kernelspec": {
   "display_name": "Python 3 (ipykernel)",
   "language": "python",
   "name": "python3"
  },
  "language_info": {
   "codemirror_mode": {
    "name": "ipython",
    "version": 3
   },
   "file_extension": ".py",
   "mimetype": "text/x-python",
   "name": "python",
   "nbconvert_exporter": "python",
   "pygments_lexer": "ipython3",
   "version": "3.10.9"
  }
 },
 "nbformat": 4,
 "nbformat_minor": 5
}
